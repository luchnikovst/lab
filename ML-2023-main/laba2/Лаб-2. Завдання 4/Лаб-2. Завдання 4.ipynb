{
 "cells": [
  {
   "cell_type": "markdown",
   "metadata": {},
   "source": [
    "#  Лабораторна робота №2 (продовження)\n",
    "\n",
    "***"
   ]
  },
  {
   "cell_type": "markdown",
   "metadata": {},
   "source": [
    "## Словники - Dictionary\n",
    "\n",
    "__Словник__ - це _послідовна_ структура даних, кожний елемент якої є парою \"__ключ : зачення__\" (key-value) та записується в фігурних дужках через кому:\n",
    "\n",
    "slovnik = {key1:value1, key2:value2, ... keyN:valueN}\n",
    "\n",
    "\n",
    "<pre>slovnik = {int_num : 123,\n",
    "           stroka: \"John\",\n",
    "           some_list:[1,2,3],\n",
    "           \"const\":100}</pre>\n",
    "\n",
    "[Докладніше про словники в Python](https://devpractice.ru/python-lesson-9-dict/)"
   ]
  },
  {
   "cell_type": "markdown",
   "metadata": {},
   "source": [
    "__Способи створення словників__\n",
    "1. статичний\n",
    "2. фунціональний"
   ]
  },
  {
   "cell_type": "code",
   "execution_count": 1,
   "metadata": {},
   "outputs": [],
   "source": [
    "# в першому випадку змінній присвоюється заздалегідь визначена структура:\n",
    "\n",
    "name=\"some_key\"\n",
    "some_value = \"Smith\"\n",
    "\n",
    "static_slovnik = {\n",
    "           \"int_num\" : 123,\n",
    "           \"stroka\": \"John\",\n",
    "           \"some_list\" : [1,2,3],\n",
    "           \"const\" : 100,\n",
    "           100 : 12,\n",
    "           name : some_value}\n",
    "\n",
    "# ВАЖЛИВО! ключі - повинні бути заздалегідь визначеними константами"
   ]
  },
  {
   "cell_type": "code",
   "execution_count": 2,
   "metadata": {},
   "outputs": [],
   "source": [
    "static_slovnik"
   ]
  },
  {
   "cell_type": "code",
   "execution_count": 3,
   "metadata": {},
   "outputs": [],
   "source": [
    "# в другому випадку пари 'ключ-значення' передаються \n",
    "# в функцію-конструктор `dict`: де 'ключ' - параметр, який отримає 'значення'\n",
    "\n",
    "func_slovnik = dict(int_num = 123,\n",
    "                    stroka = \"John\",\n",
    "                    some_list = [1,2,3],\n",
    "                    const = 100,\n",
    "                    name = some_value) \n",
    "\n",
    "# ВАЖЛИВО! ім'я параметра стає іменем ключа у вигляді строки!"
   ]
  },
  {
   "cell_type": "code",
   "execution_count": 4,
   "metadata": {},
   "outputs": [],
   "source": [
    "func_slovnik"
   ]
  },
  {
   "cell_type": "code",
   "execution_count": 5,
   "metadata": {},
   "outputs": [],
   "source": [
    "# пустий словник\n",
    "empty_dict = {}\n",
    "\n",
    "# або\n",
    "empty_dict_1 = dict()"
   ]
  },
  {
   "cell_type": "markdown",
   "metadata": {},
   "source": [
    "#### словник, як і список - є _змінним_ обїєктом"
   ]
  },
  {
   "cell_type": "code",
   "execution_count": 6,
   "metadata": {},
   "outputs": [],
   "source": [
    "print(empty_dict, id(empty_dict))\n",
    "print(empty_dict_1, id(empty_dict_1))"
   ]
  },
  {
   "cell_type": "code",
   "execution_count": 7,
   "metadata": {},
   "outputs": [],
   "source": [
    "l = []\n",
    "l1 = list()\n",
    "print (l, id(l))\n",
    "print (l1, id(l1))"
   ]
  },
  {
   "cell_type": "markdown",
   "metadata": {},
   "source": [
    "на відмінність від  кортежів:"
   ]
  },
  {
   "cell_type": "code",
   "execution_count": 8,
   "metadata": {},
   "outputs": [],
   "source": [
    "k = ()\n",
    "k1 = tuple()\n",
    "print (k, id(k))\n",
    "print (k1, id(k1))"
   ]
  },
  {
   "cell_type": "markdown",
   "metadata": {},
   "source": [
    "<dir style=\"background-color: cyan\">\n",
    "<b>Словник</b> - це <i>масив</i>/список індексами якого є <b>хеш-значення</b>. \n",
    "\n",
    "Такий масив ще називають <i>асоціативним масивом</i> чи <i>хеш-таблицей</i>\n",
    "</dir>"
   ]
  },
  {
   "cell_type": "code",
   "execution_count": 9,
   "metadata": {},
   "outputs": [],
   "source": [
    "d = {\"John\"  : \"US, New York\",\n",
    "     \"Vovan\" : \"RU, Muxosransk\",\n",
    "     \"Me\"    : \"a\"}"
   ]
  },
  {
   "cell_type": "code",
   "execution_count": 10,
   "metadata": {},
   "outputs": [],
   "source": [
    "for k, v in d.items():\n",
    "    print(\"key=\", k, '\\t', \"value=\",v)"
   ]
  },
  {
   "cell_type": "code",
   "execution_count": 11,
   "metadata": {
    "code_folding": []
   },
   "outputs": [],
   "source": [
    "l = [\"NY, Broadway 1\", \n",
    "     \"RU, Muxosransk\"]"
   ]
  },
  {
   "cell_type": "code",
   "execution_count": 12,
   "metadata": {
    "code_folding": []
   },
   "outputs": [],
   "source": [
    "for i, v in enumerate(l):\n",
    "    print(\"index=\", i, '\\t', \"value=\",v)"
   ]
  },
  {
   "cell_type": "markdown",
   "metadata": {},
   "source": [
    "#### принцип створення хеш-значень (хеш функція)\n",
    "\n",
    "[прочитати про хеш-функції](http://ruslan.rv.ua/python-essential/methodologies/hash/)"
   ]
  },
  {
   "cell_type": "code",
   "execution_count": 13,
   "metadata": {},
   "outputs": [],
   "source": [
    "print(dir(__builtins__))"
   ]
  },
  {
   "cell_type": "code",
   "execution_count": 14,
   "metadata": {},
   "outputs": [],
   "source": [
    "d, id(d), id('John'), id(d['Me']), id(\"a\")"
   ]
  },
  {
   "cell_type": "code",
   "execution_count": 15,
   "metadata": {},
   "outputs": [],
   "source": [
    "h = hash('John')"
   ]
  },
  {
   "cell_type": "code",
   "execution_count": 16,
   "metadata": {},
   "outputs": [],
   "source": [
    "h, bin(h)"
   ]
  },
  {
   "cell_type": "code",
   "execution_count": 17,
   "metadata": {},
   "outputs": [],
   "source": [
    "h & 1_000_000_000"
   ]
  },
  {
   "cell_type": "code",
   "execution_count": 18,
   "metadata": {},
   "outputs": [],
   "source": [
    "memoryview('John'.encode())"
   ]
  },
  {
   "cell_type": "markdown",
   "metadata": {},
   "source": [
    "#### операції з словниками"
   ]
  },
  {
   "cell_type": "code",
   "execution_count": 19,
   "metadata": {},
   "outputs": [],
   "source": [
    "# словники будуть рівними якщо УСІ пари 'ключ-значення рівні'\n",
    "\n",
    "d1 = {\"k1\" : 1, \"k2\" : 2 }\n",
    "d2 = dict(k1 = 1, k2 = 2)\n",
    "print(d1 == d2)\n",
    "\n",
    "# ВАЖЛИВО! словники не можна перевіряти на 'більш-менш'"
   ]
  },
  {
   "cell_type": "code",
   "execution_count": 20,
   "metadata": {},
   "outputs": [],
   "source": [
    "print('== ', d1 == d2)\n",
    "# але:\n",
    "print('is ', d1 is d2)  # оператор 'is' порівнює 'id'"
   ]
  },
  {
   "cell_type": "code",
   "execution_count": 21,
   "metadata": {},
   "outputs": [],
   "source": [
    "print(dir(dict))"
   ]
  },
  {
   "cell_type": "markdown",
   "metadata": {},
   "source": [
    "#### доступ до елементів словника"
   ]
  },
  {
   "cell_type": "code",
   "execution_count": 22,
   "metadata": {},
   "outputs": [],
   "source": [
    "print(d1, end = '\\t')\n",
    "print (\"k1 = \", d1['k1'])\n",
    "\n",
    "d1['k1'] = \"John\"\n",
    "print(d1)\n",
    "\n",
    "d1['k3'] = \"Smith\"\n",
    "print(d1)"
   ]
  },
  {
   "cell_type": "markdown",
   "metadata": {},
   "source": [
    "#### функції для роботи з словниками"
   ]
  },
  {
   "cell_type": "code",
   "execution_count": 1,
   "metadata": {
    "scrolled": true
   },
   "outputs": [
    {
     "name": "stdout",
     "output_type": "stream",
     "text": [
      "['__class__', '__class_getitem__', '__contains__', '__delattr__', '__delitem__', '__dir__', '__doc__', '__eq__', '__format__', '__ge__', '__getattribute__', '__getitem__', '__gt__', '__hash__', '__init__', '__init_subclass__', '__ior__', '__iter__', '__le__', '__len__', '__lt__', '__ne__', '__new__', '__or__', '__reduce__', '__reduce_ex__', '__repr__', '__reversed__', '__ror__', '__setattr__', '__setitem__', '__sizeof__', '__str__', '__subclasshook__', 'clear', 'copy', 'fromkeys', 'get', 'items', 'keys', 'pop', 'popitem', 'setdefault', 'update', 'values']\n"
     ]
    }
   ],
   "source": [
    "# методи (функції) притаманні виключно словникам\n",
    "print(dir(dict))"
   ]
  },
  {
   "cell_type": "code",
   "execution_count": 24,
   "metadata": {},
   "outputs": [],
   "source": [
    "# вивід усіх ключів словника\n",
    "d1.keys()"
   ]
  },
  {
   "cell_type": "code",
   "execution_count": 25,
   "metadata": {},
   "outputs": [],
   "source": [
    "# вивід усіх значень словника\n",
    "d1.values()"
   ]
  },
  {
   "cell_type": "code",
   "execution_count": 26,
   "metadata": {},
   "outputs": [],
   "source": [
    "# вивід усіх пар 'ключ-значення' у вигляді списка кортежів\n",
    "d1.items()"
   ]
  },
  {
   "cell_type": "code",
   "execution_count": 27,
   "metadata": {},
   "outputs": [],
   "source": [
    "# видалення елемента словника по ключу \n",
    "d1.pop(\"k1\", \"ключ не знайден\")"
   ]
  },
  {
   "cell_type": "markdown",
   "metadata": {
    "heading_collapsed": true
   },
   "source": [
    "## Множини\n",
    "\n",
    "__множина__ - це об'єкт(тип) Python, який містить послідовність унікальних (такі, які не повторюються) елементів _незмінного_ (такого, який має __хеш__) типу (str, int, ...) \n",
    "\n",
    "<pre>\n",
    "m = {1, '1', -3.14, True, None, (1,2,3) }\n",
    "</pre>\n",
    "\n",
    "множини є __змінними__ об'єктами\n",
    "\n",
    "[Докладніше про множини в Python](https://pythonworld.ru/tipy-dannyx-v-python/mnozhestva-set-i-frozenset.html)"
   ]
  },
  {
   "cell_type": "code",
   "execution_count": 28,
   "metadata": {
    "hidden": true,
    "scrolled": true
   },
   "outputs": [],
   "source": [
    "# Створити множник можна так \n",
    "m = {1, 2}\n",
    "\n",
    "# або через функцію-конструктор\n",
    "m = set([1, 2])\n",
    "\n",
    "print(type(m))"
   ]
  },
  {
   "cell_type": "code",
   "execution_count": 29,
   "metadata": {
    "hidden": true
   },
   "outputs": [],
   "source": [
    "m = {1, 2}\n",
    "print(m, id(m))\n",
    "m.add(3)\n",
    "print(m, id(m))"
   ]
  },
  {
   "cell_type": "code",
   "execution_count": 30,
   "metadata": {
    "hidden": true
   },
   "outputs": [],
   "source": [
    "k = (1, 2)\n",
    "print(k, id(k))\n",
    "k += (3,)\n",
    "print(k, id(k))"
   ]
  },
  {
   "cell_type": "markdown",
   "metadata": {
    "hidden": true
   },
   "source": [
    "#### операції та функції роботи з множинами"
   ]
  },
  {
   "cell_type": "code",
   "execution_count": 31,
   "metadata": {
    "hidden": true,
    "scrolled": false
   },
   "outputs": [],
   "source": [
    "print(dir(m))"
   ]
  },
  {
   "cell_type": "code",
   "execution_count": 32,
   "metadata": {
    "hidden": true
   },
   "outputs": [],
   "source": [
    "l = [3, 2, 44, 765]\n",
    "set_l = set(l)\n",
    "print(set_l)"
   ]
  },
  {
   "cell_type": "code",
   "execution_count": 33,
   "metadata": {
    "hidden": true
   },
   "outputs": [],
   "source": [
    "d = dict(a=3, b=1, c=2)\n",
    "set_d = set(d)\n",
    "print(set_d)"
   ]
  },
  {
   "cell_type": "code",
   "execution_count": 34,
   "metadata": {
    "hidden": true
   },
   "outputs": [],
   "source": [
    "s = \"Lorem ipsum dolor sit amet, consectetur adipiscing elit. Morbi auctor eros eu leo ultrices suscipit. Nulla facilisi\"\n",
    "set_s = set(s)\n",
    "print(set_s)"
   ]
  },
  {
   "cell_type": "code",
   "execution_count": 35,
   "metadata": {
    "hidden": true
   },
   "outputs": [],
   "source": [
    "a = {1, 2, 3, 4}\n",
    "b = {2, 4, 5}"
   ]
  },
  {
   "cell_type": "code",
   "execution_count": 36,
   "metadata": {
    "hidden": true
   },
   "outputs": [],
   "source": [
    "c = a.difference(b)    # різниця\n",
    "d = a.union(b)         # об'єднання\n",
    "e = a.intersection(b)  # перетин\n",
    "\n",
    "print(c, d, e)"
   ]
  },
  {
   "cell_type": "code",
   "execution_count": 37,
   "metadata": {
    "hidden": true
   },
   "outputs": [],
   "source": [
    "c = b.difference(a)\n",
    "d = b.union(a)\n",
    "e = b.intersection(a)\n",
    "\n",
    "print(c, d, e)"
   ]
  },
  {
   "cell_type": "markdown",
   "metadata": {},
   "source": [
    "## ТЕСТОВА ЧАСТИНА\n",
    "\n",
    "<p style=\"color:red\"> разкоментуйте (уберіть '#') перший рядок (<b>#!!pip ...</b>) в наступному кодовому рядку і запустить рядок на виконання (може зайняти деякий час!)</p>"
   ]
  },
  {
   "cell_type": "code",
   "execution_count": 30,
   "metadata": {
    "run_control": {
     "marked": false
    },
    "tags": [
     "hide-input"
    ]
   },
   "outputs": [],
   "source": [
    "!!pip install otter-grader\n",
    "import otter\n",
    "grader = otter.Notebook()"
   ]
  },
  {
   "cell_type": "markdown",
   "metadata": {},
   "source": [
    "#### виконуйте завдання послідовно вписуючи на відведених місцях (...) свій код та перевіряйте  код запускаючи  'grader.check()'"
   ]
  },
  {
   "cell_type": "markdown",
   "metadata": {
    "deletable": false,
    "editable": false
   },
   "source": [
    "__Завдання 1__ \n",
    "1. створити пустий словник з ім'ям 'my_info'\n",
    "2. додати в словник наступні елементи\n",
    "  - своє ім'я (ключ = __name__)\n",
    "  - своє прізвище (ключ = __surname__)\n",
    "  - свій рік народження (ключ = __year_of_birth__)\n",
    "  - місяць народження (ключ = __month_of_birth__) як __число__\n",
    "<!--\n",
    "BEGIN QUESTION\n",
    "name: q1\n",
    "manual: false\n",
    "points: 1\n",
    "-->"
   ]
  },
  {
   "cell_type": "code",
   "execution_count": 31,
   "metadata": {
    "run_control": {
     "marked": true
    }
   },
   "outputs": [
    {
     "name": "stdout",
     "output_type": "stream",
     "text": [
      "{'name': 'Anton', 'surname': 'Lavryshyn', 'year_of_birth': 2003, 'month_of_birth': 1}\n"
     ]
    }
   ],
   "source": [
    "my_info = dict(name = \"Anton\",\n",
    "               surname = \"Lavryshyn\",\n",
    "               year_of_birth = 2003,\n",
    "               month_of_birth = 1)\n",
    "\n",
    "print(my_info)"
   ]
  },
  {
   "cell_type": "code",
   "execution_count": 32,
   "metadata": {
    "deletable": false,
    "editable": false
   },
   "outputs": [
    {
     "ename": "RuntimeError",
     "evalue": "Malformed test file: does not define the global variable 'OK_FORMAT'",
     "output_type": "error",
     "traceback": [
      "\u001b[1;31m---------------------------------------------------------------------------\u001b[0m",
      "\u001b[1;31mRuntimeError\u001b[0m                              Traceback (most recent call last)",
      "Cell \u001b[1;32mIn[32], line 1\u001b[0m\n\u001b[1;32m----> 1\u001b[0m \u001b[43mgrader\u001b[49m\u001b[38;5;241;43m.\u001b[39;49m\u001b[43mcheck\u001b[49m\u001b[43m(\u001b[49m\u001b[38;5;124;43m\"\u001b[39;49m\u001b[38;5;124;43mq1\u001b[39;49m\u001b[38;5;124;43m\"\u001b[39;49m\u001b[43m)\u001b[49m\n",
      "File \u001b[1;32m~\\AppData\\Local\\Programs\\Python\\Python310\\lib\\site-packages\\otter\\check\\utils.py:194\u001b[0m, in \u001b[0;36mlogs_event.<locals>.event_logger\u001b[1;34m(wrapped, self, args, kwargs)\u001b[0m\n\u001b[0;32m    192\u001b[0m \u001b[38;5;28;01mexcept\u001b[39;00m \u001b[38;5;167;01mException\u001b[39;00m \u001b[38;5;28;01mas\u001b[39;00m e:\n\u001b[0;32m    193\u001b[0m     \u001b[38;5;28mself\u001b[39m\u001b[38;5;241m.\u001b[39m_log_event(event_type, success\u001b[38;5;241m=\u001b[39m\u001b[38;5;28;01mFalse\u001b[39;00m, error\u001b[38;5;241m=\u001b[39me)\n\u001b[1;32m--> 194\u001b[0m     \u001b[38;5;28;01mraise\u001b[39;00m e\n\u001b[0;32m    196\u001b[0m \u001b[38;5;28;01melse\u001b[39;00m:\n\u001b[0;32m    197\u001b[0m     \u001b[38;5;28mself\u001b[39m\u001b[38;5;241m.\u001b[39m_log_event(event_type, results\u001b[38;5;241m=\u001b[39mresults, question\u001b[38;5;241m=\u001b[39mquestion, shelve_env\u001b[38;5;241m=\u001b[39mshelve_env)\n",
      "File \u001b[1;32m~\\AppData\\Local\\Programs\\Python\\Python310\\lib\\site-packages\\otter\\check\\utils.py:185\u001b[0m, in \u001b[0;36mlogs_event.<locals>.event_logger\u001b[1;34m(wrapped, self, args, kwargs)\u001b[0m\n\u001b[0;32m    183\u001b[0m \u001b[38;5;28;01mtry\u001b[39;00m:\n\u001b[0;32m    184\u001b[0m     \u001b[38;5;28;01mif\u001b[39;00m event_type \u001b[38;5;241m==\u001b[39m EventType\u001b[38;5;241m.\u001b[39mCHECK:\n\u001b[1;32m--> 185\u001b[0m         question, results, shelve_env \u001b[38;5;241m=\u001b[39m wrapped(\u001b[38;5;241m*\u001b[39margs, \u001b[38;5;241m*\u001b[39m\u001b[38;5;241m*\u001b[39mkwargs)\n\u001b[0;32m    187\u001b[0m     \u001b[38;5;28;01melse\u001b[39;00m:\n\u001b[0;32m    188\u001b[0m         results \u001b[38;5;241m=\u001b[39m wrapped(\u001b[38;5;241m*\u001b[39margs, \u001b[38;5;241m*\u001b[39m\u001b[38;5;241m*\u001b[39mkwargs)\n",
      "File \u001b[1;32m~\\AppData\\Local\\Programs\\Python\\Python310\\lib\\site-packages\\otter\\check\\notebook.py:226\u001b[0m, in \u001b[0;36mNotebook.check\u001b[1;34m(self, question, global_env)\u001b[0m\n\u001b[0;32m    224\u001b[0m \u001b[38;5;66;03m# run the check\u001b[39;00m\n\u001b[0;32m    225\u001b[0m \u001b[38;5;28mself\u001b[39m\u001b[38;5;241m.\u001b[39m_logger\u001b[38;5;241m.\u001b[39mdebug(\u001b[38;5;124mf\u001b[39m\u001b[38;5;124m\"\u001b[39m\u001b[38;5;124mCalling checker\u001b[39m\u001b[38;5;124m\"\u001b[39m)\n\u001b[1;32m--> 226\u001b[0m result \u001b[38;5;241m=\u001b[39m \u001b[43mChecker\u001b[49m\u001b[38;5;241;43m.\u001b[39;49m\u001b[43mcheck\u001b[49m\u001b[43m(\u001b[49m\u001b[43mtest_path\u001b[49m\u001b[43m,\u001b[49m\u001b[43m \u001b[49m\u001b[43mtest_name\u001b[49m\u001b[43m,\u001b[49m\u001b[43m \u001b[49m\u001b[43mglobal_env\u001b[49m\u001b[43m)\u001b[49m\n\u001b[0;32m    228\u001b[0m \u001b[38;5;28;01mreturn\u001b[39;00m question, result, global_env\n",
      "File \u001b[1;32m~\\AppData\\Local\\Programs\\Python\\Python310\\lib\\site-packages\\otter\\execute\\checker.py:73\u001b[0m, in \u001b[0;36mChecker.check\u001b[1;34m(cls, nb_or_test_path, test_name, global_env)\u001b[0m\n\u001b[0;32m     52\u001b[0m \u001b[38;5;129m@classmethod\u001b[39m\n\u001b[0;32m     53\u001b[0m \u001b[38;5;28;01mdef\u001b[39;00m \u001b[38;5;21mcheck\u001b[39m(\u001b[38;5;28mcls\u001b[39m, nb_or_test_path, test_name\u001b[38;5;241m=\u001b[39m\u001b[38;5;28;01mNone\u001b[39;00m, global_env\u001b[38;5;241m=\u001b[39m\u001b[38;5;28;01mNone\u001b[39;00m):\n\u001b[0;32m     54\u001b[0m \u001b[38;5;250m    \u001b[39m\u001b[38;5;124;03m\"\"\"\u001b[39;00m\n\u001b[0;32m     55\u001b[0m \u001b[38;5;124;03m    Checks a global environment against given test file. If ``global_env`` is ``None``, the global \u001b[39;00m\n\u001b[0;32m     56\u001b[0m \u001b[38;5;124;03m    environment of the calling frame is used; i.e., the following two calls are equivalent:\u001b[39;00m\n\u001b[1;32m   (...)\u001b[0m\n\u001b[0;32m     71\u001b[0m \u001b[38;5;124;03m        given global environment\u001b[39;00m\n\u001b[0;32m     72\u001b[0m \u001b[38;5;124;03m    \"\"\"\u001b[39;00m\n\u001b[1;32m---> 73\u001b[0m     test \u001b[38;5;241m=\u001b[39m \u001b[43mcreate_test_file\u001b[49m\u001b[43m(\u001b[49m\u001b[43mnb_or_test_path\u001b[49m\u001b[43m,\u001b[49m\u001b[43m \u001b[49m\u001b[43mtest_name\u001b[49m\u001b[38;5;241;43m=\u001b[39;49m\u001b[43mtest_name\u001b[49m\u001b[43m)\u001b[49m\n\u001b[0;32m     75\u001b[0m     \u001b[38;5;28;01mif\u001b[39;00m global_env \u001b[38;5;129;01mis\u001b[39;00m \u001b[38;5;28;01mNone\u001b[39;00m:\n\u001b[0;32m     76\u001b[0m         global_env \u001b[38;5;241m=\u001b[39m inspect\u001b[38;5;241m.\u001b[39mcurrentframe()\u001b[38;5;241m.\u001b[39mf_back\u001b[38;5;241m.\u001b[39mf_globals\n",
      "File \u001b[1;32m~\\AppData\\Local\\Programs\\Python\\Python310\\lib\\site-packages\\otter\\test_files\\__init__.py:52\u001b[0m, in \u001b[0;36mcreate_test_file\u001b[1;34m(path, test_name)\u001b[0m\n\u001b[0;32m     49\u001b[0m     exec(f\u001b[38;5;241m.\u001b[39mread(), env)\n\u001b[0;32m     51\u001b[0m \u001b[38;5;28;01mif\u001b[39;00m OK_FORMAT_VARNAME \u001b[38;5;129;01mnot\u001b[39;00m \u001b[38;5;129;01min\u001b[39;00m env:\n\u001b[1;32m---> 52\u001b[0m     \u001b[38;5;28;01mraise\u001b[39;00m \u001b[38;5;167;01mRuntimeError\u001b[39;00m(\u001b[38;5;124mf\u001b[39m\u001b[38;5;124m\"\u001b[39m\u001b[38;5;124mMalformed test file: does not define the global variable \u001b[39m\u001b[38;5;124m'\u001b[39m\u001b[38;5;132;01m{\u001b[39;00mOK_FORMAT_VARNAME\u001b[38;5;132;01m}\u001b[39;00m\u001b[38;5;124m'\u001b[39m\u001b[38;5;124m\"\u001b[39m)\n\u001b[0;32m     54\u001b[0m \u001b[38;5;28;01mif\u001b[39;00m env[OK_FORMAT_VARNAME]:\n\u001b[0;32m     55\u001b[0m     \u001b[38;5;28;01mreturn\u001b[39;00m OKTestFile\u001b[38;5;241m.\u001b[39mfrom_file(path)\n",
      "\u001b[1;31mRuntimeError\u001b[0m: Malformed test file: does not define the global variable 'OK_FORMAT'"
     ]
    }
   ],
   "source": [
    "grader.check(\"q1\")"
   ]
  },
  {
   "cell_type": "markdown",
   "metadata": {
    "deletable": false,
    "editable": false
   },
   "source": [
    "__Завдання 2__ \n",
    "1. Змінити поле __month_of_birth__ в словнику __my_info__ на назву місяця\n",
    "<!--\n",
    "BEGIN QUESTION\n",
    "name: q2\n",
    "manual: false\n",
    "points: 1\n",
    "-->"
   ]
  },
  {
   "cell_type": "code",
   "execution_count": 33,
   "metadata": {
    "run_control": {
     "marked": true
    }
   },
   "outputs": [],
   "source": [
    "my_info['month_of_birth'] = 'January'\n"
   ]
  },
  {
   "cell_type": "code",
   "execution_count": 34,
   "metadata": {
    "deletable": false,
    "editable": false
   },
   "outputs": [
    {
     "ename": "RuntimeError",
     "evalue": "Malformed test file: does not define the global variable 'OK_FORMAT'",
     "output_type": "error",
     "traceback": [
      "\u001b[1;31m---------------------------------------------------------------------------\u001b[0m",
      "\u001b[1;31mRuntimeError\u001b[0m                              Traceback (most recent call last)",
      "Cell \u001b[1;32mIn[34], line 1\u001b[0m\n\u001b[1;32m----> 1\u001b[0m \u001b[43mgrader\u001b[49m\u001b[38;5;241;43m.\u001b[39;49m\u001b[43mcheck\u001b[49m\u001b[43m(\u001b[49m\u001b[38;5;124;43m\"\u001b[39;49m\u001b[38;5;124;43mq2\u001b[39;49m\u001b[38;5;124;43m\"\u001b[39;49m\u001b[43m)\u001b[49m\n",
      "File \u001b[1;32m~\\AppData\\Local\\Programs\\Python\\Python310\\lib\\site-packages\\otter\\check\\utils.py:194\u001b[0m, in \u001b[0;36mlogs_event.<locals>.event_logger\u001b[1;34m(wrapped, self, args, kwargs)\u001b[0m\n\u001b[0;32m    192\u001b[0m \u001b[38;5;28;01mexcept\u001b[39;00m \u001b[38;5;167;01mException\u001b[39;00m \u001b[38;5;28;01mas\u001b[39;00m e:\n\u001b[0;32m    193\u001b[0m     \u001b[38;5;28mself\u001b[39m\u001b[38;5;241m.\u001b[39m_log_event(event_type, success\u001b[38;5;241m=\u001b[39m\u001b[38;5;28;01mFalse\u001b[39;00m, error\u001b[38;5;241m=\u001b[39me)\n\u001b[1;32m--> 194\u001b[0m     \u001b[38;5;28;01mraise\u001b[39;00m e\n\u001b[0;32m    196\u001b[0m \u001b[38;5;28;01melse\u001b[39;00m:\n\u001b[0;32m    197\u001b[0m     \u001b[38;5;28mself\u001b[39m\u001b[38;5;241m.\u001b[39m_log_event(event_type, results\u001b[38;5;241m=\u001b[39mresults, question\u001b[38;5;241m=\u001b[39mquestion, shelve_env\u001b[38;5;241m=\u001b[39mshelve_env)\n",
      "File \u001b[1;32m~\\AppData\\Local\\Programs\\Python\\Python310\\lib\\site-packages\\otter\\check\\utils.py:185\u001b[0m, in \u001b[0;36mlogs_event.<locals>.event_logger\u001b[1;34m(wrapped, self, args, kwargs)\u001b[0m\n\u001b[0;32m    183\u001b[0m \u001b[38;5;28;01mtry\u001b[39;00m:\n\u001b[0;32m    184\u001b[0m     \u001b[38;5;28;01mif\u001b[39;00m event_type \u001b[38;5;241m==\u001b[39m EventType\u001b[38;5;241m.\u001b[39mCHECK:\n\u001b[1;32m--> 185\u001b[0m         question, results, shelve_env \u001b[38;5;241m=\u001b[39m wrapped(\u001b[38;5;241m*\u001b[39margs, \u001b[38;5;241m*\u001b[39m\u001b[38;5;241m*\u001b[39mkwargs)\n\u001b[0;32m    187\u001b[0m     \u001b[38;5;28;01melse\u001b[39;00m:\n\u001b[0;32m    188\u001b[0m         results \u001b[38;5;241m=\u001b[39m wrapped(\u001b[38;5;241m*\u001b[39margs, \u001b[38;5;241m*\u001b[39m\u001b[38;5;241m*\u001b[39mkwargs)\n",
      "File \u001b[1;32m~\\AppData\\Local\\Programs\\Python\\Python310\\lib\\site-packages\\otter\\check\\notebook.py:226\u001b[0m, in \u001b[0;36mNotebook.check\u001b[1;34m(self, question, global_env)\u001b[0m\n\u001b[0;32m    224\u001b[0m \u001b[38;5;66;03m# run the check\u001b[39;00m\n\u001b[0;32m    225\u001b[0m \u001b[38;5;28mself\u001b[39m\u001b[38;5;241m.\u001b[39m_logger\u001b[38;5;241m.\u001b[39mdebug(\u001b[38;5;124mf\u001b[39m\u001b[38;5;124m\"\u001b[39m\u001b[38;5;124mCalling checker\u001b[39m\u001b[38;5;124m\"\u001b[39m)\n\u001b[1;32m--> 226\u001b[0m result \u001b[38;5;241m=\u001b[39m \u001b[43mChecker\u001b[49m\u001b[38;5;241;43m.\u001b[39;49m\u001b[43mcheck\u001b[49m\u001b[43m(\u001b[49m\u001b[43mtest_path\u001b[49m\u001b[43m,\u001b[49m\u001b[43m \u001b[49m\u001b[43mtest_name\u001b[49m\u001b[43m,\u001b[49m\u001b[43m \u001b[49m\u001b[43mglobal_env\u001b[49m\u001b[43m)\u001b[49m\n\u001b[0;32m    228\u001b[0m \u001b[38;5;28;01mreturn\u001b[39;00m question, result, global_env\n",
      "File \u001b[1;32m~\\AppData\\Local\\Programs\\Python\\Python310\\lib\\site-packages\\otter\\execute\\checker.py:73\u001b[0m, in \u001b[0;36mChecker.check\u001b[1;34m(cls, nb_or_test_path, test_name, global_env)\u001b[0m\n\u001b[0;32m     52\u001b[0m \u001b[38;5;129m@classmethod\u001b[39m\n\u001b[0;32m     53\u001b[0m \u001b[38;5;28;01mdef\u001b[39;00m \u001b[38;5;21mcheck\u001b[39m(\u001b[38;5;28mcls\u001b[39m, nb_or_test_path, test_name\u001b[38;5;241m=\u001b[39m\u001b[38;5;28;01mNone\u001b[39;00m, global_env\u001b[38;5;241m=\u001b[39m\u001b[38;5;28;01mNone\u001b[39;00m):\n\u001b[0;32m     54\u001b[0m \u001b[38;5;250m    \u001b[39m\u001b[38;5;124;03m\"\"\"\u001b[39;00m\n\u001b[0;32m     55\u001b[0m \u001b[38;5;124;03m    Checks a global environment against given test file. If ``global_env`` is ``None``, the global \u001b[39;00m\n\u001b[0;32m     56\u001b[0m \u001b[38;5;124;03m    environment of the calling frame is used; i.e., the following two calls are equivalent:\u001b[39;00m\n\u001b[1;32m   (...)\u001b[0m\n\u001b[0;32m     71\u001b[0m \u001b[38;5;124;03m        given global environment\u001b[39;00m\n\u001b[0;32m     72\u001b[0m \u001b[38;5;124;03m    \"\"\"\u001b[39;00m\n\u001b[1;32m---> 73\u001b[0m     test \u001b[38;5;241m=\u001b[39m \u001b[43mcreate_test_file\u001b[49m\u001b[43m(\u001b[49m\u001b[43mnb_or_test_path\u001b[49m\u001b[43m,\u001b[49m\u001b[43m \u001b[49m\u001b[43mtest_name\u001b[49m\u001b[38;5;241;43m=\u001b[39;49m\u001b[43mtest_name\u001b[49m\u001b[43m)\u001b[49m\n\u001b[0;32m     75\u001b[0m     \u001b[38;5;28;01mif\u001b[39;00m global_env \u001b[38;5;129;01mis\u001b[39;00m \u001b[38;5;28;01mNone\u001b[39;00m:\n\u001b[0;32m     76\u001b[0m         global_env \u001b[38;5;241m=\u001b[39m inspect\u001b[38;5;241m.\u001b[39mcurrentframe()\u001b[38;5;241m.\u001b[39mf_back\u001b[38;5;241m.\u001b[39mf_globals\n",
      "File \u001b[1;32m~\\AppData\\Local\\Programs\\Python\\Python310\\lib\\site-packages\\otter\\test_files\\__init__.py:52\u001b[0m, in \u001b[0;36mcreate_test_file\u001b[1;34m(path, test_name)\u001b[0m\n\u001b[0;32m     49\u001b[0m     exec(f\u001b[38;5;241m.\u001b[39mread(), env)\n\u001b[0;32m     51\u001b[0m \u001b[38;5;28;01mif\u001b[39;00m OK_FORMAT_VARNAME \u001b[38;5;129;01mnot\u001b[39;00m \u001b[38;5;129;01min\u001b[39;00m env:\n\u001b[1;32m---> 52\u001b[0m     \u001b[38;5;28;01mraise\u001b[39;00m \u001b[38;5;167;01mRuntimeError\u001b[39;00m(\u001b[38;5;124mf\u001b[39m\u001b[38;5;124m\"\u001b[39m\u001b[38;5;124mMalformed test file: does not define the global variable \u001b[39m\u001b[38;5;124m'\u001b[39m\u001b[38;5;132;01m{\u001b[39;00mOK_FORMAT_VARNAME\u001b[38;5;132;01m}\u001b[39;00m\u001b[38;5;124m'\u001b[39m\u001b[38;5;124m\"\u001b[39m)\n\u001b[0;32m     54\u001b[0m \u001b[38;5;28;01mif\u001b[39;00m env[OK_FORMAT_VARNAME]:\n\u001b[0;32m     55\u001b[0m     \u001b[38;5;28;01mreturn\u001b[39;00m OKTestFile\u001b[38;5;241m.\u001b[39mfrom_file(path)\n",
      "\u001b[1;31mRuntimeError\u001b[0m: Malformed test file: does not define the global variable 'OK_FORMAT'"
     ]
    }
   ],
   "source": [
    "grader.check(\"q2\")"
   ]
  },
  {
   "cell_type": "markdown",
   "metadata": {
    "deletable": false,
    "editable": false
   },
   "source": [
    "__Завдання 3__ \n",
    "1. Зробити копію словника 'my_info' з ім'ям 'my_info_long'\n",
    "2. Додати в словник 'my_info_long' наступні поля і значення\n",
    "    - __'name_of_university'__ (текстове)\n",
    "    - __'faculty'__ (текстове)\n",
    "    - __'course'__ (числове)\n",
    "    - __'group'__ (текстове)\n",
    "    - __'budget'__(логічне)\n",
    "<!--\n",
    "BEGIN QUESTION\n",
    "name: q3\n",
    "manual: false\n",
    "points: 1\n",
    "-->"
   ]
  },
  {
   "cell_type": "code",
   "execution_count": 35,
   "metadata": {
    "code_folding": [],
    "run_control": {
     "marked": true
    }
   },
   "outputs": [],
   "source": [
    "# --- п.1\n",
    "my_info_long = my_info.copy()\n"
   ]
  },
  {
   "cell_type": "code",
   "execution_count": 36,
   "metadata": {
    "deletable": false,
    "editable": false
   },
   "outputs": [
    {
     "ename": "RuntimeError",
     "evalue": "Malformed test file: does not define the global variable 'OK_FORMAT'",
     "output_type": "error",
     "traceback": [
      "\u001b[1;31m---------------------------------------------------------------------------\u001b[0m",
      "\u001b[1;31mRuntimeError\u001b[0m                              Traceback (most recent call last)",
      "Cell \u001b[1;32mIn[36], line 1\u001b[0m\n\u001b[1;32m----> 1\u001b[0m \u001b[43mgrader\u001b[49m\u001b[38;5;241;43m.\u001b[39;49m\u001b[43mcheck\u001b[49m\u001b[43m(\u001b[49m\u001b[38;5;124;43m\"\u001b[39;49m\u001b[38;5;124;43mq3\u001b[39;49m\u001b[38;5;124;43m\"\u001b[39;49m\u001b[43m)\u001b[49m\n",
      "File \u001b[1;32m~\\AppData\\Local\\Programs\\Python\\Python310\\lib\\site-packages\\otter\\check\\utils.py:194\u001b[0m, in \u001b[0;36mlogs_event.<locals>.event_logger\u001b[1;34m(wrapped, self, args, kwargs)\u001b[0m\n\u001b[0;32m    192\u001b[0m \u001b[38;5;28;01mexcept\u001b[39;00m \u001b[38;5;167;01mException\u001b[39;00m \u001b[38;5;28;01mas\u001b[39;00m e:\n\u001b[0;32m    193\u001b[0m     \u001b[38;5;28mself\u001b[39m\u001b[38;5;241m.\u001b[39m_log_event(event_type, success\u001b[38;5;241m=\u001b[39m\u001b[38;5;28;01mFalse\u001b[39;00m, error\u001b[38;5;241m=\u001b[39me)\n\u001b[1;32m--> 194\u001b[0m     \u001b[38;5;28;01mraise\u001b[39;00m e\n\u001b[0;32m    196\u001b[0m \u001b[38;5;28;01melse\u001b[39;00m:\n\u001b[0;32m    197\u001b[0m     \u001b[38;5;28mself\u001b[39m\u001b[38;5;241m.\u001b[39m_log_event(event_type, results\u001b[38;5;241m=\u001b[39mresults, question\u001b[38;5;241m=\u001b[39mquestion, shelve_env\u001b[38;5;241m=\u001b[39mshelve_env)\n",
      "File \u001b[1;32m~\\AppData\\Local\\Programs\\Python\\Python310\\lib\\site-packages\\otter\\check\\utils.py:185\u001b[0m, in \u001b[0;36mlogs_event.<locals>.event_logger\u001b[1;34m(wrapped, self, args, kwargs)\u001b[0m\n\u001b[0;32m    183\u001b[0m \u001b[38;5;28;01mtry\u001b[39;00m:\n\u001b[0;32m    184\u001b[0m     \u001b[38;5;28;01mif\u001b[39;00m event_type \u001b[38;5;241m==\u001b[39m EventType\u001b[38;5;241m.\u001b[39mCHECK:\n\u001b[1;32m--> 185\u001b[0m         question, results, shelve_env \u001b[38;5;241m=\u001b[39m wrapped(\u001b[38;5;241m*\u001b[39margs, \u001b[38;5;241m*\u001b[39m\u001b[38;5;241m*\u001b[39mkwargs)\n\u001b[0;32m    187\u001b[0m     \u001b[38;5;28;01melse\u001b[39;00m:\n\u001b[0;32m    188\u001b[0m         results \u001b[38;5;241m=\u001b[39m wrapped(\u001b[38;5;241m*\u001b[39margs, \u001b[38;5;241m*\u001b[39m\u001b[38;5;241m*\u001b[39mkwargs)\n",
      "File \u001b[1;32m~\\AppData\\Local\\Programs\\Python\\Python310\\lib\\site-packages\\otter\\check\\notebook.py:226\u001b[0m, in \u001b[0;36mNotebook.check\u001b[1;34m(self, question, global_env)\u001b[0m\n\u001b[0;32m    224\u001b[0m \u001b[38;5;66;03m# run the check\u001b[39;00m\n\u001b[0;32m    225\u001b[0m \u001b[38;5;28mself\u001b[39m\u001b[38;5;241m.\u001b[39m_logger\u001b[38;5;241m.\u001b[39mdebug(\u001b[38;5;124mf\u001b[39m\u001b[38;5;124m\"\u001b[39m\u001b[38;5;124mCalling checker\u001b[39m\u001b[38;5;124m\"\u001b[39m)\n\u001b[1;32m--> 226\u001b[0m result \u001b[38;5;241m=\u001b[39m \u001b[43mChecker\u001b[49m\u001b[38;5;241;43m.\u001b[39;49m\u001b[43mcheck\u001b[49m\u001b[43m(\u001b[49m\u001b[43mtest_path\u001b[49m\u001b[43m,\u001b[49m\u001b[43m \u001b[49m\u001b[43mtest_name\u001b[49m\u001b[43m,\u001b[49m\u001b[43m \u001b[49m\u001b[43mglobal_env\u001b[49m\u001b[43m)\u001b[49m\n\u001b[0;32m    228\u001b[0m \u001b[38;5;28;01mreturn\u001b[39;00m question, result, global_env\n",
      "File \u001b[1;32m~\\AppData\\Local\\Programs\\Python\\Python310\\lib\\site-packages\\otter\\execute\\checker.py:73\u001b[0m, in \u001b[0;36mChecker.check\u001b[1;34m(cls, nb_or_test_path, test_name, global_env)\u001b[0m\n\u001b[0;32m     52\u001b[0m \u001b[38;5;129m@classmethod\u001b[39m\n\u001b[0;32m     53\u001b[0m \u001b[38;5;28;01mdef\u001b[39;00m \u001b[38;5;21mcheck\u001b[39m(\u001b[38;5;28mcls\u001b[39m, nb_or_test_path, test_name\u001b[38;5;241m=\u001b[39m\u001b[38;5;28;01mNone\u001b[39;00m, global_env\u001b[38;5;241m=\u001b[39m\u001b[38;5;28;01mNone\u001b[39;00m):\n\u001b[0;32m     54\u001b[0m \u001b[38;5;250m    \u001b[39m\u001b[38;5;124;03m\"\"\"\u001b[39;00m\n\u001b[0;32m     55\u001b[0m \u001b[38;5;124;03m    Checks a global environment against given test file. If ``global_env`` is ``None``, the global \u001b[39;00m\n\u001b[0;32m     56\u001b[0m \u001b[38;5;124;03m    environment of the calling frame is used; i.e., the following two calls are equivalent:\u001b[39;00m\n\u001b[1;32m   (...)\u001b[0m\n\u001b[0;32m     71\u001b[0m \u001b[38;5;124;03m        given global environment\u001b[39;00m\n\u001b[0;32m     72\u001b[0m \u001b[38;5;124;03m    \"\"\"\u001b[39;00m\n\u001b[1;32m---> 73\u001b[0m     test \u001b[38;5;241m=\u001b[39m \u001b[43mcreate_test_file\u001b[49m\u001b[43m(\u001b[49m\u001b[43mnb_or_test_path\u001b[49m\u001b[43m,\u001b[49m\u001b[43m \u001b[49m\u001b[43mtest_name\u001b[49m\u001b[38;5;241;43m=\u001b[39;49m\u001b[43mtest_name\u001b[49m\u001b[43m)\u001b[49m\n\u001b[0;32m     75\u001b[0m     \u001b[38;5;28;01mif\u001b[39;00m global_env \u001b[38;5;129;01mis\u001b[39;00m \u001b[38;5;28;01mNone\u001b[39;00m:\n\u001b[0;32m     76\u001b[0m         global_env \u001b[38;5;241m=\u001b[39m inspect\u001b[38;5;241m.\u001b[39mcurrentframe()\u001b[38;5;241m.\u001b[39mf_back\u001b[38;5;241m.\u001b[39mf_globals\n",
      "File \u001b[1;32m~\\AppData\\Local\\Programs\\Python\\Python310\\lib\\site-packages\\otter\\test_files\\__init__.py:52\u001b[0m, in \u001b[0;36mcreate_test_file\u001b[1;34m(path, test_name)\u001b[0m\n\u001b[0;32m     49\u001b[0m     exec(f\u001b[38;5;241m.\u001b[39mread(), env)\n\u001b[0;32m     51\u001b[0m \u001b[38;5;28;01mif\u001b[39;00m OK_FORMAT_VARNAME \u001b[38;5;129;01mnot\u001b[39;00m \u001b[38;5;129;01min\u001b[39;00m env:\n\u001b[1;32m---> 52\u001b[0m     \u001b[38;5;28;01mraise\u001b[39;00m \u001b[38;5;167;01mRuntimeError\u001b[39;00m(\u001b[38;5;124mf\u001b[39m\u001b[38;5;124m\"\u001b[39m\u001b[38;5;124mMalformed test file: does not define the global variable \u001b[39m\u001b[38;5;124m'\u001b[39m\u001b[38;5;132;01m{\u001b[39;00mOK_FORMAT_VARNAME\u001b[38;5;132;01m}\u001b[39;00m\u001b[38;5;124m'\u001b[39m\u001b[38;5;124m\"\u001b[39m)\n\u001b[0;32m     54\u001b[0m \u001b[38;5;28;01mif\u001b[39;00m env[OK_FORMAT_VARNAME]:\n\u001b[0;32m     55\u001b[0m     \u001b[38;5;28;01mreturn\u001b[39;00m OKTestFile\u001b[38;5;241m.\u001b[39mfrom_file(path)\n",
      "\u001b[1;31mRuntimeError\u001b[0m: Malformed test file: does not define the global variable 'OK_FORMAT'"
     ]
    }
   ],
   "source": [
    "grader.check(\"q3\")"
   ]
  },
  {
   "cell_type": "code",
   "execution_count": 37,
   "metadata": {
    "run_control": {
     "marked": true
    }
   },
   "outputs": [],
   "source": [
    "# --- п.2\n",
    "my_info_long['name_of_university'] = 'State University of Trade and Economics'\n",
    "my_info_long['faculty'] = 'Information technologies'\n",
    "my_info_long['course'] = 3\n",
    "my_info_long['group'] = 11\n",
    "my_info_long['budget'] = False\n",
    "             "
   ]
  },
  {
   "cell_type": "code",
   "execution_count": 38,
   "metadata": {
    "deletable": false,
    "editable": false
   },
   "outputs": [
    {
     "ename": "RuntimeError",
     "evalue": "Malformed test file: does not define the global variable 'OK_FORMAT'",
     "output_type": "error",
     "traceback": [
      "\u001b[1;31m---------------------------------------------------------------------------\u001b[0m",
      "\u001b[1;31mRuntimeError\u001b[0m                              Traceback (most recent call last)",
      "Cell \u001b[1;32mIn[38], line 1\u001b[0m\n\u001b[1;32m----> 1\u001b[0m \u001b[43mgrader\u001b[49m\u001b[38;5;241;43m.\u001b[39;49m\u001b[43mcheck\u001b[49m\u001b[43m(\u001b[49m\u001b[38;5;124;43m\"\u001b[39;49m\u001b[38;5;124;43mq4\u001b[39;49m\u001b[38;5;124;43m\"\u001b[39;49m\u001b[43m)\u001b[49m\n",
      "File \u001b[1;32m~\\AppData\\Local\\Programs\\Python\\Python310\\lib\\site-packages\\otter\\check\\utils.py:194\u001b[0m, in \u001b[0;36mlogs_event.<locals>.event_logger\u001b[1;34m(wrapped, self, args, kwargs)\u001b[0m\n\u001b[0;32m    192\u001b[0m \u001b[38;5;28;01mexcept\u001b[39;00m \u001b[38;5;167;01mException\u001b[39;00m \u001b[38;5;28;01mas\u001b[39;00m e:\n\u001b[0;32m    193\u001b[0m     \u001b[38;5;28mself\u001b[39m\u001b[38;5;241m.\u001b[39m_log_event(event_type, success\u001b[38;5;241m=\u001b[39m\u001b[38;5;28;01mFalse\u001b[39;00m, error\u001b[38;5;241m=\u001b[39me)\n\u001b[1;32m--> 194\u001b[0m     \u001b[38;5;28;01mraise\u001b[39;00m e\n\u001b[0;32m    196\u001b[0m \u001b[38;5;28;01melse\u001b[39;00m:\n\u001b[0;32m    197\u001b[0m     \u001b[38;5;28mself\u001b[39m\u001b[38;5;241m.\u001b[39m_log_event(event_type, results\u001b[38;5;241m=\u001b[39mresults, question\u001b[38;5;241m=\u001b[39mquestion, shelve_env\u001b[38;5;241m=\u001b[39mshelve_env)\n",
      "File \u001b[1;32m~\\AppData\\Local\\Programs\\Python\\Python310\\lib\\site-packages\\otter\\check\\utils.py:185\u001b[0m, in \u001b[0;36mlogs_event.<locals>.event_logger\u001b[1;34m(wrapped, self, args, kwargs)\u001b[0m\n\u001b[0;32m    183\u001b[0m \u001b[38;5;28;01mtry\u001b[39;00m:\n\u001b[0;32m    184\u001b[0m     \u001b[38;5;28;01mif\u001b[39;00m event_type \u001b[38;5;241m==\u001b[39m EventType\u001b[38;5;241m.\u001b[39mCHECK:\n\u001b[1;32m--> 185\u001b[0m         question, results, shelve_env \u001b[38;5;241m=\u001b[39m wrapped(\u001b[38;5;241m*\u001b[39margs, \u001b[38;5;241m*\u001b[39m\u001b[38;5;241m*\u001b[39mkwargs)\n\u001b[0;32m    187\u001b[0m     \u001b[38;5;28;01melse\u001b[39;00m:\n\u001b[0;32m    188\u001b[0m         results \u001b[38;5;241m=\u001b[39m wrapped(\u001b[38;5;241m*\u001b[39margs, \u001b[38;5;241m*\u001b[39m\u001b[38;5;241m*\u001b[39mkwargs)\n",
      "File \u001b[1;32m~\\AppData\\Local\\Programs\\Python\\Python310\\lib\\site-packages\\otter\\check\\notebook.py:226\u001b[0m, in \u001b[0;36mNotebook.check\u001b[1;34m(self, question, global_env)\u001b[0m\n\u001b[0;32m    224\u001b[0m \u001b[38;5;66;03m# run the check\u001b[39;00m\n\u001b[0;32m    225\u001b[0m \u001b[38;5;28mself\u001b[39m\u001b[38;5;241m.\u001b[39m_logger\u001b[38;5;241m.\u001b[39mdebug(\u001b[38;5;124mf\u001b[39m\u001b[38;5;124m\"\u001b[39m\u001b[38;5;124mCalling checker\u001b[39m\u001b[38;5;124m\"\u001b[39m)\n\u001b[1;32m--> 226\u001b[0m result \u001b[38;5;241m=\u001b[39m \u001b[43mChecker\u001b[49m\u001b[38;5;241;43m.\u001b[39;49m\u001b[43mcheck\u001b[49m\u001b[43m(\u001b[49m\u001b[43mtest_path\u001b[49m\u001b[43m,\u001b[49m\u001b[43m \u001b[49m\u001b[43mtest_name\u001b[49m\u001b[43m,\u001b[49m\u001b[43m \u001b[49m\u001b[43mglobal_env\u001b[49m\u001b[43m)\u001b[49m\n\u001b[0;32m    228\u001b[0m \u001b[38;5;28;01mreturn\u001b[39;00m question, result, global_env\n",
      "File \u001b[1;32m~\\AppData\\Local\\Programs\\Python\\Python310\\lib\\site-packages\\otter\\execute\\checker.py:73\u001b[0m, in \u001b[0;36mChecker.check\u001b[1;34m(cls, nb_or_test_path, test_name, global_env)\u001b[0m\n\u001b[0;32m     52\u001b[0m \u001b[38;5;129m@classmethod\u001b[39m\n\u001b[0;32m     53\u001b[0m \u001b[38;5;28;01mdef\u001b[39;00m \u001b[38;5;21mcheck\u001b[39m(\u001b[38;5;28mcls\u001b[39m, nb_or_test_path, test_name\u001b[38;5;241m=\u001b[39m\u001b[38;5;28;01mNone\u001b[39;00m, global_env\u001b[38;5;241m=\u001b[39m\u001b[38;5;28;01mNone\u001b[39;00m):\n\u001b[0;32m     54\u001b[0m \u001b[38;5;250m    \u001b[39m\u001b[38;5;124;03m\"\"\"\u001b[39;00m\n\u001b[0;32m     55\u001b[0m \u001b[38;5;124;03m    Checks a global environment against given test file. If ``global_env`` is ``None``, the global \u001b[39;00m\n\u001b[0;32m     56\u001b[0m \u001b[38;5;124;03m    environment of the calling frame is used; i.e., the following two calls are equivalent:\u001b[39;00m\n\u001b[1;32m   (...)\u001b[0m\n\u001b[0;32m     71\u001b[0m \u001b[38;5;124;03m        given global environment\u001b[39;00m\n\u001b[0;32m     72\u001b[0m \u001b[38;5;124;03m    \"\"\"\u001b[39;00m\n\u001b[1;32m---> 73\u001b[0m     test \u001b[38;5;241m=\u001b[39m \u001b[43mcreate_test_file\u001b[49m\u001b[43m(\u001b[49m\u001b[43mnb_or_test_path\u001b[49m\u001b[43m,\u001b[49m\u001b[43m \u001b[49m\u001b[43mtest_name\u001b[49m\u001b[38;5;241;43m=\u001b[39;49m\u001b[43mtest_name\u001b[49m\u001b[43m)\u001b[49m\n\u001b[0;32m     75\u001b[0m     \u001b[38;5;28;01mif\u001b[39;00m global_env \u001b[38;5;129;01mis\u001b[39;00m \u001b[38;5;28;01mNone\u001b[39;00m:\n\u001b[0;32m     76\u001b[0m         global_env \u001b[38;5;241m=\u001b[39m inspect\u001b[38;5;241m.\u001b[39mcurrentframe()\u001b[38;5;241m.\u001b[39mf_back\u001b[38;5;241m.\u001b[39mf_globals\n",
      "File \u001b[1;32m~\\AppData\\Local\\Programs\\Python\\Python310\\lib\\site-packages\\otter\\test_files\\__init__.py:52\u001b[0m, in \u001b[0;36mcreate_test_file\u001b[1;34m(path, test_name)\u001b[0m\n\u001b[0;32m     49\u001b[0m     exec(f\u001b[38;5;241m.\u001b[39mread(), env)\n\u001b[0;32m     51\u001b[0m \u001b[38;5;28;01mif\u001b[39;00m OK_FORMAT_VARNAME \u001b[38;5;129;01mnot\u001b[39;00m \u001b[38;5;129;01min\u001b[39;00m env:\n\u001b[1;32m---> 52\u001b[0m     \u001b[38;5;28;01mraise\u001b[39;00m \u001b[38;5;167;01mRuntimeError\u001b[39;00m(\u001b[38;5;124mf\u001b[39m\u001b[38;5;124m\"\u001b[39m\u001b[38;5;124mMalformed test file: does not define the global variable \u001b[39m\u001b[38;5;124m'\u001b[39m\u001b[38;5;132;01m{\u001b[39;00mOK_FORMAT_VARNAME\u001b[38;5;132;01m}\u001b[39;00m\u001b[38;5;124m'\u001b[39m\u001b[38;5;124m\"\u001b[39m)\n\u001b[0;32m     54\u001b[0m \u001b[38;5;28;01mif\u001b[39;00m env[OK_FORMAT_VARNAME]:\n\u001b[0;32m     55\u001b[0m     \u001b[38;5;28;01mreturn\u001b[39;00m OKTestFile\u001b[38;5;241m.\u001b[39mfrom_file(path)\n",
      "\u001b[1;31mRuntimeError\u001b[0m: Malformed test file: does not define the global variable 'OK_FORMAT'"
     ]
    }
   ],
   "source": [
    "grader.check(\"q4\")"
   ]
  },
  {
   "cell_type": "markdown",
   "metadata": {
    "deletable": false,
    "editable": false
   },
   "source": [
    "__Завдання 4__ \n",
    "\n",
    "\n",
    "Написати код, який знаходить спільні значення в множині  __set_a__ та __set_b__\n",
    "\n",
    "\n",
    "<!--\n",
    "BEGIN QUESTION\n",
    "name: q5\n",
    "manual: false\n",
    "points: 1\n",
    "-->"
   ]
  },
  {
   "cell_type": "code",
   "execution_count": 39,
   "metadata": {
    "run_control": {
     "marked": true
    }
   },
   "outputs": [
    {
     "name": "stdout",
     "output_type": "stream",
     "text": [
      "{8, 14}\n"
     ]
    }
   ],
   "source": [
    "set_a = {11, 14, 5, 12, 16, 44, 8}\n",
    "set_b = {22, 14, 4, 15, 8}\n",
    "\n",
    "set_c = set_a.intersection(set_b)\n",
    "print(set_c)"
   ]
  },
  {
   "cell_type": "code",
   "execution_count": 40,
   "metadata": {
    "deletable": false,
    "editable": false
   },
   "outputs": [
    {
     "ename": "RuntimeError",
     "evalue": "Malformed test file: does not define the global variable 'OK_FORMAT'",
     "output_type": "error",
     "traceback": [
      "\u001b[1;31m---------------------------------------------------------------------------\u001b[0m",
      "\u001b[1;31mRuntimeError\u001b[0m                              Traceback (most recent call last)",
      "Cell \u001b[1;32mIn[40], line 1\u001b[0m\n\u001b[1;32m----> 1\u001b[0m \u001b[43mgrader\u001b[49m\u001b[38;5;241;43m.\u001b[39;49m\u001b[43mcheck\u001b[49m\u001b[43m(\u001b[49m\u001b[38;5;124;43m\"\u001b[39;49m\u001b[38;5;124;43mq5\u001b[39;49m\u001b[38;5;124;43m\"\u001b[39;49m\u001b[43m)\u001b[49m\n",
      "File \u001b[1;32m~\\AppData\\Local\\Programs\\Python\\Python310\\lib\\site-packages\\otter\\check\\utils.py:194\u001b[0m, in \u001b[0;36mlogs_event.<locals>.event_logger\u001b[1;34m(wrapped, self, args, kwargs)\u001b[0m\n\u001b[0;32m    192\u001b[0m \u001b[38;5;28;01mexcept\u001b[39;00m \u001b[38;5;167;01mException\u001b[39;00m \u001b[38;5;28;01mas\u001b[39;00m e:\n\u001b[0;32m    193\u001b[0m     \u001b[38;5;28mself\u001b[39m\u001b[38;5;241m.\u001b[39m_log_event(event_type, success\u001b[38;5;241m=\u001b[39m\u001b[38;5;28;01mFalse\u001b[39;00m, error\u001b[38;5;241m=\u001b[39me)\n\u001b[1;32m--> 194\u001b[0m     \u001b[38;5;28;01mraise\u001b[39;00m e\n\u001b[0;32m    196\u001b[0m \u001b[38;5;28;01melse\u001b[39;00m:\n\u001b[0;32m    197\u001b[0m     \u001b[38;5;28mself\u001b[39m\u001b[38;5;241m.\u001b[39m_log_event(event_type, results\u001b[38;5;241m=\u001b[39mresults, question\u001b[38;5;241m=\u001b[39mquestion, shelve_env\u001b[38;5;241m=\u001b[39mshelve_env)\n",
      "File \u001b[1;32m~\\AppData\\Local\\Programs\\Python\\Python310\\lib\\site-packages\\otter\\check\\utils.py:185\u001b[0m, in \u001b[0;36mlogs_event.<locals>.event_logger\u001b[1;34m(wrapped, self, args, kwargs)\u001b[0m\n\u001b[0;32m    183\u001b[0m \u001b[38;5;28;01mtry\u001b[39;00m:\n\u001b[0;32m    184\u001b[0m     \u001b[38;5;28;01mif\u001b[39;00m event_type \u001b[38;5;241m==\u001b[39m EventType\u001b[38;5;241m.\u001b[39mCHECK:\n\u001b[1;32m--> 185\u001b[0m         question, results, shelve_env \u001b[38;5;241m=\u001b[39m wrapped(\u001b[38;5;241m*\u001b[39margs, \u001b[38;5;241m*\u001b[39m\u001b[38;5;241m*\u001b[39mkwargs)\n\u001b[0;32m    187\u001b[0m     \u001b[38;5;28;01melse\u001b[39;00m:\n\u001b[0;32m    188\u001b[0m         results \u001b[38;5;241m=\u001b[39m wrapped(\u001b[38;5;241m*\u001b[39margs, \u001b[38;5;241m*\u001b[39m\u001b[38;5;241m*\u001b[39mkwargs)\n",
      "File \u001b[1;32m~\\AppData\\Local\\Programs\\Python\\Python310\\lib\\site-packages\\otter\\check\\notebook.py:226\u001b[0m, in \u001b[0;36mNotebook.check\u001b[1;34m(self, question, global_env)\u001b[0m\n\u001b[0;32m    224\u001b[0m \u001b[38;5;66;03m# run the check\u001b[39;00m\n\u001b[0;32m    225\u001b[0m \u001b[38;5;28mself\u001b[39m\u001b[38;5;241m.\u001b[39m_logger\u001b[38;5;241m.\u001b[39mdebug(\u001b[38;5;124mf\u001b[39m\u001b[38;5;124m\"\u001b[39m\u001b[38;5;124mCalling checker\u001b[39m\u001b[38;5;124m\"\u001b[39m)\n\u001b[1;32m--> 226\u001b[0m result \u001b[38;5;241m=\u001b[39m \u001b[43mChecker\u001b[49m\u001b[38;5;241;43m.\u001b[39;49m\u001b[43mcheck\u001b[49m\u001b[43m(\u001b[49m\u001b[43mtest_path\u001b[49m\u001b[43m,\u001b[49m\u001b[43m \u001b[49m\u001b[43mtest_name\u001b[49m\u001b[43m,\u001b[49m\u001b[43m \u001b[49m\u001b[43mglobal_env\u001b[49m\u001b[43m)\u001b[49m\n\u001b[0;32m    228\u001b[0m \u001b[38;5;28;01mreturn\u001b[39;00m question, result, global_env\n",
      "File \u001b[1;32m~\\AppData\\Local\\Programs\\Python\\Python310\\lib\\site-packages\\otter\\execute\\checker.py:73\u001b[0m, in \u001b[0;36mChecker.check\u001b[1;34m(cls, nb_or_test_path, test_name, global_env)\u001b[0m\n\u001b[0;32m     52\u001b[0m \u001b[38;5;129m@classmethod\u001b[39m\n\u001b[0;32m     53\u001b[0m \u001b[38;5;28;01mdef\u001b[39;00m \u001b[38;5;21mcheck\u001b[39m(\u001b[38;5;28mcls\u001b[39m, nb_or_test_path, test_name\u001b[38;5;241m=\u001b[39m\u001b[38;5;28;01mNone\u001b[39;00m, global_env\u001b[38;5;241m=\u001b[39m\u001b[38;5;28;01mNone\u001b[39;00m):\n\u001b[0;32m     54\u001b[0m \u001b[38;5;250m    \u001b[39m\u001b[38;5;124;03m\"\"\"\u001b[39;00m\n\u001b[0;32m     55\u001b[0m \u001b[38;5;124;03m    Checks a global environment against given test file. If ``global_env`` is ``None``, the global \u001b[39;00m\n\u001b[0;32m     56\u001b[0m \u001b[38;5;124;03m    environment of the calling frame is used; i.e., the following two calls are equivalent:\u001b[39;00m\n\u001b[1;32m   (...)\u001b[0m\n\u001b[0;32m     71\u001b[0m \u001b[38;5;124;03m        given global environment\u001b[39;00m\n\u001b[0;32m     72\u001b[0m \u001b[38;5;124;03m    \"\"\"\u001b[39;00m\n\u001b[1;32m---> 73\u001b[0m     test \u001b[38;5;241m=\u001b[39m \u001b[43mcreate_test_file\u001b[49m\u001b[43m(\u001b[49m\u001b[43mnb_or_test_path\u001b[49m\u001b[43m,\u001b[49m\u001b[43m \u001b[49m\u001b[43mtest_name\u001b[49m\u001b[38;5;241;43m=\u001b[39;49m\u001b[43mtest_name\u001b[49m\u001b[43m)\u001b[49m\n\u001b[0;32m     75\u001b[0m     \u001b[38;5;28;01mif\u001b[39;00m global_env \u001b[38;5;129;01mis\u001b[39;00m \u001b[38;5;28;01mNone\u001b[39;00m:\n\u001b[0;32m     76\u001b[0m         global_env \u001b[38;5;241m=\u001b[39m inspect\u001b[38;5;241m.\u001b[39mcurrentframe()\u001b[38;5;241m.\u001b[39mf_back\u001b[38;5;241m.\u001b[39mf_globals\n",
      "File \u001b[1;32m~\\AppData\\Local\\Programs\\Python\\Python310\\lib\\site-packages\\otter\\test_files\\__init__.py:52\u001b[0m, in \u001b[0;36mcreate_test_file\u001b[1;34m(path, test_name)\u001b[0m\n\u001b[0;32m     49\u001b[0m     exec(f\u001b[38;5;241m.\u001b[39mread(), env)\n\u001b[0;32m     51\u001b[0m \u001b[38;5;28;01mif\u001b[39;00m OK_FORMAT_VARNAME \u001b[38;5;129;01mnot\u001b[39;00m \u001b[38;5;129;01min\u001b[39;00m env:\n\u001b[1;32m---> 52\u001b[0m     \u001b[38;5;28;01mraise\u001b[39;00m \u001b[38;5;167;01mRuntimeError\u001b[39;00m(\u001b[38;5;124mf\u001b[39m\u001b[38;5;124m\"\u001b[39m\u001b[38;5;124mMalformed test file: does not define the global variable \u001b[39m\u001b[38;5;124m'\u001b[39m\u001b[38;5;132;01m{\u001b[39;00mOK_FORMAT_VARNAME\u001b[38;5;132;01m}\u001b[39;00m\u001b[38;5;124m'\u001b[39m\u001b[38;5;124m\"\u001b[39m)\n\u001b[0;32m     54\u001b[0m \u001b[38;5;28;01mif\u001b[39;00m env[OK_FORMAT_VARNAME]:\n\u001b[0;32m     55\u001b[0m     \u001b[38;5;28;01mreturn\u001b[39;00m OKTestFile\u001b[38;5;241m.\u001b[39mfrom_file(path)\n",
      "\u001b[1;31mRuntimeError\u001b[0m: Malformed test file: does not define the global variable 'OK_FORMAT'"
     ]
    }
   ],
   "source": [
    "grader.check(\"q5\")"
   ]
  },
  {
   "cell_type": "markdown",
   "metadata": {
    "deletable": false,
    "editable": false
   },
   "source": [
    "__Завдання 5__ \n",
    "\n",
    "Підрахувати кількість __унікальних__ символів в тексті\n",
    "\n",
    "<!--\n",
    "BEGIN QUESTION\n",
    "name: q6\n",
    "manual: false\n",
    "points: 1\n",
    "-->"
   ]
  },
  {
   "cell_type": "code",
   "execution_count": 41,
   "metadata": {
    "run_control": {
     "marked": true
    }
   },
   "outputs": [],
   "source": [
    "some_text = \"\"\"Lorem ipsum dolor sit amet, consectetur adipiscing elit. \n",
    "Morbi auctor eros eu leo ultrices suscipit. \n",
    "Nulla facilisi. Fusce a cursus lectus. Sed erat erat, ultrices.\"\"\"\n",
    "\n",
    "...\n",
    "uniq_symb = set(some_text)\n",
    "count_of_unic_symb = len(uniq_symb)\n"
   ]
  },
  {
   "cell_type": "code",
   "execution_count": 42,
   "metadata": {
    "deletable": false,
    "editable": false
   },
   "outputs": [
    {
     "ename": "RuntimeError",
     "evalue": "Malformed test file: does not define the global variable 'OK_FORMAT'",
     "output_type": "error",
     "traceback": [
      "\u001b[1;31m---------------------------------------------------------------------------\u001b[0m",
      "\u001b[1;31mRuntimeError\u001b[0m                              Traceback (most recent call last)",
      "Cell \u001b[1;32mIn[42], line 1\u001b[0m\n\u001b[1;32m----> 1\u001b[0m \u001b[43mgrader\u001b[49m\u001b[38;5;241;43m.\u001b[39;49m\u001b[43mcheck\u001b[49m\u001b[43m(\u001b[49m\u001b[38;5;124;43m\"\u001b[39;49m\u001b[38;5;124;43mq6\u001b[39;49m\u001b[38;5;124;43m\"\u001b[39;49m\u001b[43m)\u001b[49m\n",
      "File \u001b[1;32m~\\AppData\\Local\\Programs\\Python\\Python310\\lib\\site-packages\\otter\\check\\utils.py:194\u001b[0m, in \u001b[0;36mlogs_event.<locals>.event_logger\u001b[1;34m(wrapped, self, args, kwargs)\u001b[0m\n\u001b[0;32m    192\u001b[0m \u001b[38;5;28;01mexcept\u001b[39;00m \u001b[38;5;167;01mException\u001b[39;00m \u001b[38;5;28;01mas\u001b[39;00m e:\n\u001b[0;32m    193\u001b[0m     \u001b[38;5;28mself\u001b[39m\u001b[38;5;241m.\u001b[39m_log_event(event_type, success\u001b[38;5;241m=\u001b[39m\u001b[38;5;28;01mFalse\u001b[39;00m, error\u001b[38;5;241m=\u001b[39me)\n\u001b[1;32m--> 194\u001b[0m     \u001b[38;5;28;01mraise\u001b[39;00m e\n\u001b[0;32m    196\u001b[0m \u001b[38;5;28;01melse\u001b[39;00m:\n\u001b[0;32m    197\u001b[0m     \u001b[38;5;28mself\u001b[39m\u001b[38;5;241m.\u001b[39m_log_event(event_type, results\u001b[38;5;241m=\u001b[39mresults, question\u001b[38;5;241m=\u001b[39mquestion, shelve_env\u001b[38;5;241m=\u001b[39mshelve_env)\n",
      "File \u001b[1;32m~\\AppData\\Local\\Programs\\Python\\Python310\\lib\\site-packages\\otter\\check\\utils.py:185\u001b[0m, in \u001b[0;36mlogs_event.<locals>.event_logger\u001b[1;34m(wrapped, self, args, kwargs)\u001b[0m\n\u001b[0;32m    183\u001b[0m \u001b[38;5;28;01mtry\u001b[39;00m:\n\u001b[0;32m    184\u001b[0m     \u001b[38;5;28;01mif\u001b[39;00m event_type \u001b[38;5;241m==\u001b[39m EventType\u001b[38;5;241m.\u001b[39mCHECK:\n\u001b[1;32m--> 185\u001b[0m         question, results, shelve_env \u001b[38;5;241m=\u001b[39m wrapped(\u001b[38;5;241m*\u001b[39margs, \u001b[38;5;241m*\u001b[39m\u001b[38;5;241m*\u001b[39mkwargs)\n\u001b[0;32m    187\u001b[0m     \u001b[38;5;28;01melse\u001b[39;00m:\n\u001b[0;32m    188\u001b[0m         results \u001b[38;5;241m=\u001b[39m wrapped(\u001b[38;5;241m*\u001b[39margs, \u001b[38;5;241m*\u001b[39m\u001b[38;5;241m*\u001b[39mkwargs)\n",
      "File \u001b[1;32m~\\AppData\\Local\\Programs\\Python\\Python310\\lib\\site-packages\\otter\\check\\notebook.py:226\u001b[0m, in \u001b[0;36mNotebook.check\u001b[1;34m(self, question, global_env)\u001b[0m\n\u001b[0;32m    224\u001b[0m \u001b[38;5;66;03m# run the check\u001b[39;00m\n\u001b[0;32m    225\u001b[0m \u001b[38;5;28mself\u001b[39m\u001b[38;5;241m.\u001b[39m_logger\u001b[38;5;241m.\u001b[39mdebug(\u001b[38;5;124mf\u001b[39m\u001b[38;5;124m\"\u001b[39m\u001b[38;5;124mCalling checker\u001b[39m\u001b[38;5;124m\"\u001b[39m)\n\u001b[1;32m--> 226\u001b[0m result \u001b[38;5;241m=\u001b[39m \u001b[43mChecker\u001b[49m\u001b[38;5;241;43m.\u001b[39;49m\u001b[43mcheck\u001b[49m\u001b[43m(\u001b[49m\u001b[43mtest_path\u001b[49m\u001b[43m,\u001b[49m\u001b[43m \u001b[49m\u001b[43mtest_name\u001b[49m\u001b[43m,\u001b[49m\u001b[43m \u001b[49m\u001b[43mglobal_env\u001b[49m\u001b[43m)\u001b[49m\n\u001b[0;32m    228\u001b[0m \u001b[38;5;28;01mreturn\u001b[39;00m question, result, global_env\n",
      "File \u001b[1;32m~\\AppData\\Local\\Programs\\Python\\Python310\\lib\\site-packages\\otter\\execute\\checker.py:73\u001b[0m, in \u001b[0;36mChecker.check\u001b[1;34m(cls, nb_or_test_path, test_name, global_env)\u001b[0m\n\u001b[0;32m     52\u001b[0m \u001b[38;5;129m@classmethod\u001b[39m\n\u001b[0;32m     53\u001b[0m \u001b[38;5;28;01mdef\u001b[39;00m \u001b[38;5;21mcheck\u001b[39m(\u001b[38;5;28mcls\u001b[39m, nb_or_test_path, test_name\u001b[38;5;241m=\u001b[39m\u001b[38;5;28;01mNone\u001b[39;00m, global_env\u001b[38;5;241m=\u001b[39m\u001b[38;5;28;01mNone\u001b[39;00m):\n\u001b[0;32m     54\u001b[0m \u001b[38;5;250m    \u001b[39m\u001b[38;5;124;03m\"\"\"\u001b[39;00m\n\u001b[0;32m     55\u001b[0m \u001b[38;5;124;03m    Checks a global environment against given test file. If ``global_env`` is ``None``, the global \u001b[39;00m\n\u001b[0;32m     56\u001b[0m \u001b[38;5;124;03m    environment of the calling frame is used; i.e., the following two calls are equivalent:\u001b[39;00m\n\u001b[1;32m   (...)\u001b[0m\n\u001b[0;32m     71\u001b[0m \u001b[38;5;124;03m        given global environment\u001b[39;00m\n\u001b[0;32m     72\u001b[0m \u001b[38;5;124;03m    \"\"\"\u001b[39;00m\n\u001b[1;32m---> 73\u001b[0m     test \u001b[38;5;241m=\u001b[39m \u001b[43mcreate_test_file\u001b[49m\u001b[43m(\u001b[49m\u001b[43mnb_or_test_path\u001b[49m\u001b[43m,\u001b[49m\u001b[43m \u001b[49m\u001b[43mtest_name\u001b[49m\u001b[38;5;241;43m=\u001b[39;49m\u001b[43mtest_name\u001b[49m\u001b[43m)\u001b[49m\n\u001b[0;32m     75\u001b[0m     \u001b[38;5;28;01mif\u001b[39;00m global_env \u001b[38;5;129;01mis\u001b[39;00m \u001b[38;5;28;01mNone\u001b[39;00m:\n\u001b[0;32m     76\u001b[0m         global_env \u001b[38;5;241m=\u001b[39m inspect\u001b[38;5;241m.\u001b[39mcurrentframe()\u001b[38;5;241m.\u001b[39mf_back\u001b[38;5;241m.\u001b[39mf_globals\n",
      "File \u001b[1;32m~\\AppData\\Local\\Programs\\Python\\Python310\\lib\\site-packages\\otter\\test_files\\__init__.py:52\u001b[0m, in \u001b[0;36mcreate_test_file\u001b[1;34m(path, test_name)\u001b[0m\n\u001b[0;32m     49\u001b[0m     exec(f\u001b[38;5;241m.\u001b[39mread(), env)\n\u001b[0;32m     51\u001b[0m \u001b[38;5;28;01mif\u001b[39;00m OK_FORMAT_VARNAME \u001b[38;5;129;01mnot\u001b[39;00m \u001b[38;5;129;01min\u001b[39;00m env:\n\u001b[1;32m---> 52\u001b[0m     \u001b[38;5;28;01mraise\u001b[39;00m \u001b[38;5;167;01mRuntimeError\u001b[39;00m(\u001b[38;5;124mf\u001b[39m\u001b[38;5;124m\"\u001b[39m\u001b[38;5;124mMalformed test file: does not define the global variable \u001b[39m\u001b[38;5;124m'\u001b[39m\u001b[38;5;132;01m{\u001b[39;00mOK_FORMAT_VARNAME\u001b[38;5;132;01m}\u001b[39;00m\u001b[38;5;124m'\u001b[39m\u001b[38;5;124m\"\u001b[39m)\n\u001b[0;32m     54\u001b[0m \u001b[38;5;28;01mif\u001b[39;00m env[OK_FORMAT_VARNAME]:\n\u001b[0;32m     55\u001b[0m     \u001b[38;5;28;01mreturn\u001b[39;00m OKTestFile\u001b[38;5;241m.\u001b[39mfrom_file(path)\n",
      "\u001b[1;31mRuntimeError\u001b[0m: Malformed test file: does not define the global variable 'OK_FORMAT'"
     ]
    }
   ],
   "source": [
    "grader.check(\"q6\")"
   ]
  },
  {
   "cell_type": "markdown",
   "metadata": {},
   "source": [
    "<h3 style=\"color:red\"> Наступні рядки виконувати не треба (це для викладача)\n",
    "</h3>\n"
   ]
  },
  {
   "cell_type": "markdown",
   "metadata": {
    "deletable": false,
    "editable": false
   },
   "source": [
    "---\n",
    "\n",
    "To double-check your work, the cell below will rerun all of the autograder tests."
   ]
  },
  {
   "cell_type": "code",
   "execution_count": null,
   "metadata": {
    "deletable": false,
    "editable": false
   },
   "outputs": [],
   "source": [
    "grader.check_all()"
   ]
  },
  {
   "cell_type": "markdown",
   "metadata": {
    "deletable": false,
    "editable": false
   },
   "source": [
    "## Submission\n",
    "\n",
    "Make sure you have run all cells in your notebook in order before running the cell below, so that all images/graphs appear in the output. The cell below will generate a zip file for you to submit. **Please save before exporting!**"
   ]
  },
  {
   "cell_type": "code",
   "execution_count": null,
   "metadata": {
    "deletable": false,
    "editable": false
   },
   "outputs": [],
   "source": [
    "# Save your notebook first, then run this cell to export your submission.\n",
    "grader.export(\"lab_3-assign_1.ipynb\")"
   ]
  },
  {
   "cell_type": "markdown",
   "metadata": {},
   "source": [
    " "
   ]
  }
 ],
 "metadata": {
  "hide_input": false,
  "kernelspec": {
   "display_name": "Python 3 (ipykernel)",
   "language": "python",
   "name": "python3"
  },
  "language_info": {
   "codemirror_mode": {
    "name": "ipython",
    "version": 3
   },
   "file_extension": ".py",
   "mimetype": "text/x-python",
   "name": "python",
   "nbconvert_exporter": "python",
   "pygments_lexer": "ipython3",
   "version": "3.10.6"
  },
  "varInspector": {
   "cols": {
    "lenName": 16,
    "lenType": 16,
    "lenVar": 40
   },
   "kernels_config": {
    "python": {
     "delete_cmd_postfix": "",
     "delete_cmd_prefix": "del ",
     "library": "var_list.py",
     "varRefreshCmd": "print(var_dic_list())"
    },
    "r": {
     "delete_cmd_postfix": ") ",
     "delete_cmd_prefix": "rm(",
     "library": "var_list.r",
     "varRefreshCmd": "cat(var_dic_list()) "
    }
   },
   "types_to_exclude": [
    "module",
    "function",
    "builtin_function_or_method",
    "instance",
    "_Feature"
   ],
   "window_display": false
  }
 },
 "nbformat": 4,
 "nbformat_minor": 2
}
